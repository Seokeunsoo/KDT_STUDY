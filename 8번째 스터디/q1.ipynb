{
  "nbformat": 4,
  "nbformat_minor": 0,
  "metadata": {
    "colab": {
      "provenance": []
    },
    "kernelspec": {
      "name": "python3",
      "display_name": "Python 3"
    },
    "language_info": {
      "name": "python"
    }
  },
  "cells": [
    {
      "cell_type": "markdown",
      "source": [
        "# Datamanim \n",
        "## 모의고사 1회차\n",
        "### 작업 1유형\n",
        "* Attention\n",
        "> * 데이터 출처 : https://archive.ics.uci.edu/ml/datasets/Bank+Marketing (후처리 작업)\n",
        "> * 데이터 설명 : 은행의 전화 마케팅에 대해 고객의 반응 여부\n",
        "> * dataurl : https://raw.githubusercontent.com/Datamanim/datarepo/main/bank/train.csv\n",
        "\n",
        "#### 1) 마케팅 응답 고객들의 나이를 10살 단위로 변환 했을 때, 가장 많은 인원을 가진 나이대는? (0~9 : 0 , 10~19 : 10)\n",
        "\n",
        "\n"
      ],
      "metadata": {
        "id": "4Y_rvtqkCmqJ"
      }
    },
    {
      "cell_type": "code",
      "source": [],
      "metadata": {
        "id": "zEqBDRdIC0XJ"
      },
      "execution_count": null,
      "outputs": []
    },
    {
      "cell_type": "markdown",
      "source": [
        "#### 2) 마케팅 응답 고객들의 나이를 10살 단위로 변환 했을 때, 가장 많은 나이대 구간의 인원은 몇명인가?\n",
        "\n"
      ],
      "metadata": {
        "id": "pcXvNr_yC0kZ"
      }
    },
    {
      "cell_type": "code",
      "source": [],
      "metadata": {
        "id": "ovhh02maC15B"
      },
      "execution_count": null,
      "outputs": []
    },
    {
      "cell_type": "markdown",
      "source": [
        "#### 3) 나이가 25살 이상 29살 미만인 응답 고객들중 housing컬럼의 값이 yes인 고객의 수는?\n",
        "\n"
      ],
      "metadata": {
        "id": "opxf6ccfC1_h"
      }
    },
    {
      "cell_type": "code",
      "source": [],
      "metadata": {
        "id": "KJg6o-ndC3-B"
      },
      "execution_count": null,
      "outputs": []
    },
    {
      "cell_type": "markdown",
      "source": [
        "#### 4) numeric한 값을 가지지 않은 컬럼들중 unique한 값을 가장 많이 가지는 컬럼은?\n",
        "\n"
      ],
      "metadata": {
        "id": "mBOhVtscC4C5"
      }
    },
    {
      "cell_type": "code",
      "source": [],
      "metadata": {
        "id": "nmuA3rdwC5IR"
      },
      "execution_count": null,
      "outputs": []
    },
    {
      "cell_type": "markdown",
      "source": [
        "#### 5) balance 컬럼값들의 평균값 이상을 가지는 데이터를 ID값을 기준으로 내림차순 정렬했을때 상위 100개 데이터의 balance값의 평균은?\n",
        "\n"
      ],
      "metadata": {
        "id": "lDWm7VDYC5NB"
      }
    },
    {
      "cell_type": "code",
      "source": [],
      "metadata": {
        "id": "H8MAY9PwC6ay"
      },
      "execution_count": null,
      "outputs": []
    },
    {
      "cell_type": "markdown",
      "source": [
        "#### 6) 가장 많은 광고를 집행했던 날짜는 언제인가? (데이터 그대로 일(숫자),달(영문)으로 표기)\n",
        "\n"
      ],
      "metadata": {
        "id": "WmeMLzM2C6fx"
      }
    },
    {
      "cell_type": "code",
      "source": [],
      "metadata": {
        "id": "CSMhegNJC7zx"
      },
      "execution_count": null,
      "outputs": []
    },
    {
      "cell_type": "markdown",
      "source": [
        "#### 7) 데이터의 job이 unknown 상태인 고객들의 age 컬럼 값의 정규성을 검정하고자 한다. 샤피로 검정의 p-value값을 구하여라\n",
        "\n"
      ],
      "metadata": {
        "id": "cZ7nB3UQC76R"
      }
    },
    {
      "cell_type": "code",
      "source": [],
      "metadata": {
        "id": "yDeBhJPeC9Si"
      },
      "execution_count": null,
      "outputs": []
    },
    {
      "cell_type": "markdown",
      "source": [
        "#### 8) age와 balance의 상관계수를 구하여라\n",
        "\n"
      ],
      "metadata": {
        "id": "_vcsMFdrC9YZ"
      }
    },
    {
      "cell_type": "code",
      "source": [],
      "metadata": {
        "id": "X7NCeD5OC_VJ"
      },
      "execution_count": null,
      "outputs": []
    },
    {
      "cell_type": "markdown",
      "source": [
        "#### 9) y 변수와 education 변수는 독립인지 카이제곱검정을 통해 확인하려한다. p-value값을 출력하라\n",
        "\n"
      ],
      "metadata": {
        "id": "1MtRFSqdC_cB"
      }
    },
    {
      "cell_type": "code",
      "source": [],
      "metadata": {
        "id": "jlM2xFmrDA4J"
      },
      "execution_count": null,
      "outputs": []
    },
    {
      "cell_type": "markdown",
      "source": [
        "#### 10) 각 job에 따라 divorced/married 인원의 비율을 확인 했을 때 그 값이 가장 높은 값은?\n",
        "\n"
      ],
      "metadata": {
        "id": "kFQbyfnoDA-Z"
      }
    },
    {
      "cell_type": "code",
      "source": [],
      "metadata": {
        "id": "hyM5cUP0DCEZ"
      },
      "execution_count": null,
      "outputs": []
    },
    {
      "cell_type": "markdown",
      "source": [
        "### 작업 2유형\n",
        "* Attention\n",
        "> * 데이터 출처 : https://archive.ics.uci.edu/ml/datasets/Bank+Marketing (후처리 작업)\n",
        "> * 데이터 설명 : 은행의 전화 마케팅에 대해 고객의 반응 여부\n",
        "> * train : https://raw.githubusercontent.com/Datamanim/datarepo/main/bank/train.csv\n",
        "> * test : https://raw.githubusercontent.com/Datamanim/datarepo/main/bank/test.csv\n",
        "> * submission : https://raw.githubusercontent.com/Datamanim/datarepo/main/bank/submission.csv\n",
        "\n",
        "#### 모델링 및 submission파일 생성까지\n",
        "\n"
      ],
      "metadata": {
        "id": "8n5WL9-ADCLJ"
      }
    }
  ]
}