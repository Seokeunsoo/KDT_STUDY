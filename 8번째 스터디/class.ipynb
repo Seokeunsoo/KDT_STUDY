{
 "cells": [
  {
   "attachments": {},
   "cell_type": "markdown",
   "metadata": {},
   "source": [
    "### class"
   ]
  },
  {
   "cell_type": "code",
   "execution_count": 65,
   "metadata": {},
   "outputs": [],
   "source": [
    "class Television:\n",
    "    def __init__(self, channel, volume, on):\n",
    "        self.channel=channel    # 현재 설정된 채널번호 저장\n",
    "        self.volume = volume    # 현재 설정된 음량\n",
    "        self.on = on            # 텔레비전이 on off 상태 나타내는 bool변수\n",
    "        \n",
    "    def show(self):\n",
    "        print(self.channel, self.volume, self.on)\n",
    "        \n",
    "    def setChannel(self, channel):  # 채널 설정\n",
    "        self.channel = channel\n",
    "        \n",
    "    def getChannel(self):           # 현재 채널 번호 저장\n",
    "        return self.channel"
   ]
  },
  {
   "cell_type": "code",
   "execution_count": 66,
   "metadata": {},
   "outputs": [
    {
     "name": "stdout",
     "output_type": "stream",
     "text": [
      "9 10 True\n",
      "11 10 True\n"
     ]
    }
   ],
   "source": [
    "t= Television(9,10,True)\n",
    "t.show()    # 현재 텔레비젼 객체의 상태를 화면에 출력\n",
    "t.setChannel(11)    # 객체의 멤버에 접근할때는 멤버연산자 사용\n",
    "t.show()\n",
    "\n"
   ]
  },
  {
   "cell_type": "code",
   "execution_count": 67,
   "metadata": {},
   "outputs": [
    {
     "name": "stdout",
     "output_type": "stream",
     "text": [
      "원의 면적: 314.1592653589793, 원의 둘레 :62.83185307179586\n"
     ]
    }
   ],
   "source": [
    "import math\n",
    "\n",
    "# circle 클래스 정의 \n",
    "\n",
    "class Circle:\n",
    "    def __init__(self, radius=0):\n",
    "        self.radius = radius\n",
    "    \n",
    "    def getArea(self):\n",
    "        return math.pi * self.radius * self.radius\n",
    "    \n",
    "    def getperimeter(self):\n",
    "        return 2 * math.pi * self .radius\n",
    "    \n",
    "\n",
    "# circle 객체 생성\n",
    "c=Circle(10)\n",
    "\n",
    "print(f'원의 면적: {c.getArea()}, 원의 둘레 :{c.getperimeter()}')\n",
    "         "
   ]
  },
  {
   "attachments": {},
   "cell_type": "markdown",
   "metadata": {},
   "source": [
    "### 자동차 class 만들기\n",
    "    * 자동차 객체를 생성하였습니다 . \n",
    "    * 자동차의 속도는 0 \n",
    "    * 자동차의 색상은 blue \n",
    "    * 자동차의 모델은 E-class \n",
    "    * 자동차의 속도는 60 "
   ]
  },
  {
   "cell_type": "code",
   "execution_count": 68,
   "metadata": {},
   "outputs": [
    {
     "name": "stdout",
     "output_type": "stream",
     "text": [
      "자동차 객체를 생성하였습니다.\n",
      "자동차의 속도는 0\n",
      "자동차의 색상은 blue\n",
      "자동차의 모델은 E-class\n",
      "자동차의 속도는 60\n"
     ]
    }
   ],
   "source": [
    "class Car: \n",
    "    def __init__ (self, speed , color, model):\n",
    "        self.speed = speed \n",
    "        self.color = color \n",
    "        self.model = model \n",
    "        \n",
    "    def drive (self): \n",
    "        self.speed = 60 \n",
    "    \n",
    "# 객체생성\n",
    "myCar = Car(0, 'blue','E-class')\n",
    "\n",
    "# 객체 속성과 메소드 사용\n",
    "print('자동차 객체를 생성하였습니다.')\n",
    "print('자동차의 속도는', myCar.speed)\n",
    "print('자동차의 색상은' , myCar.color) \n",
    "print('자동차의 모델은' , myCar.model) \n",
    "\n",
    "myCar.drive()\n",
    "print('자동차의 속도는', myCar.speed)"
   ]
  },
  {
   "attachments": {},
   "cell_type": "markdown",
   "metadata": {},
   "source": [
    "### 정보은닉"
   ]
  },
  {
   "cell_type": "code",
   "execution_count": 69,
   "metadata": {},
   "outputs": [
    {
     "data": {
      "text/plain": [
       "'Hong'"
      ]
     },
     "execution_count": 69,
     "metadata": {},
     "output_type": "execute_result"
    }
   ],
   "source": [
    "# 학생 정보\n",
    "class Student: \n",
    "    def __init__(self, name=None , age=0): \n",
    "        self.__name = name      # __가 변수 앞에 붙으면 외부에서 변경 금지\n",
    "        self.__age = age        # __가 변수 앞에 붙으면 외부에서 변경 금지\n",
    "    \n",
    "    def getAge(self): \n",
    "        return self.__age \n",
    "                                # 접근자 메소드\n",
    "    def getName(self): \n",
    "        return self.__name \n",
    "\n",
    "\n",
    "    def setAge (self, age): \n",
    "        self.__age=age        \n",
    "                                # 설정자메소드 \n",
    "    def setName (self, name) : \n",
    "        self.__name=name    \n",
    "    \n",
    "obj = Student(\"Hong\", 20) \n",
    "obj.getName()"
   ]
  },
  {
   "cell_type": "code",
   "execution_count": 70,
   "metadata": {},
   "outputs": [
    {
     "name": "stdout",
     "output_type": "stream",
     "text": [
      "통장에서 100 가 출금되었음\n",
      "통장에 10 가 입금되었음\n"
     ]
    },
    {
     "data": {
      "text/plain": [
       "90"
      ]
     },
     "execution_count": 70,
     "metadata": {},
     "output_type": "execute_result"
    }
   ],
   "source": [
    "# 은행계좌\n",
    "\n",
    "class BankAccount:\n",
    "    def __init__(self):\n",
    "        self.__balance =0\n",
    "        \n",
    "    def withdraw(self, amount):\n",
    "        self.__balance -= amount\n",
    "        print('통장에',amount, '가 입금되었음')\n",
    "        return self.__balance\n",
    "\n",
    "    def deposit(self, amount):\n",
    "        self.__balance +=amount\n",
    "        print('통장에서', amount, '가 출금되었음')\n",
    "        return self.__balance\n",
    "    \n",
    "a=BankAccount()\n",
    "a.deposit(100)\n",
    "a.withdraw(10)"
   ]
  },
  {
   "attachments": {},
   "cell_type": "markdown",
   "metadata": {},
   "source": [
    "### 객체참조\n",
    "    * 파이썬에서 변수는 실제로 객체를 저장하지 않음 메모리 주소를 저장한다.\n",
    "    * 객체 자체는 메모리의 다른 곳에 생성된다\n"
   ]
  },
  {
   "cell_type": "code",
   "execution_count": 71,
   "metadata": {},
   "outputs": [],
   "source": [
    "class Television:\n",
    "    def __init__(self, channel, volume, on):\n",
    "        self.channel=channel    # 현재 설정된 채널번호 저장\n",
    "        self.volume = volume    # 현재 설정된 음량\n",
    "        self.on = on            # 텔레비전이 on off 상태 나타내는 bool변수\n",
    "        \n",
    "    def setChannel(self, channel):  # 채널 설정\n",
    "        self.channel = channel\n",
    "\n",
    "# 변수 t는 객체를 저장하지 않고 객체의 주소만 저장중        \n",
    "t = Television(11,10,True)"
   ]
  },
  {
   "attachments": {},
   "cell_type": "markdown",
   "metadata": {},
   "source": [
    "#### 참조 공유\n",
    "    * 객체가 복사되는 것이 아닌 참조값만 복사되어 저장 \n",
    "    * 즉 t 와 s는 같은 객체를 가리킴\n",
    "    * s를 수정하면 t도 같이 수정됨"
   ]
  },
  {
   "cell_type": "code",
   "execution_count": 72,
   "metadata": {},
   "outputs": [],
   "source": [
    "# 파이썬에서 변수는 실제로 객체를 저장하지 않음 메모리 주소를 저장한다.\n",
    "# 객체 자체는 메모리의 다른 곳에 생성된다\n",
    "\n",
    "t = Television(11,10,True)\n",
    "s=t"
   ]
  },
  {
   "cell_type": "code",
   "execution_count": 73,
   "metadata": {},
   "outputs": [],
   "source": [
    "class Television:\n",
    "    def __init__(self, channel, volume, on):\n",
    "        self.channel=channel    # 현재 설정된 채널번호 저장\n",
    "        self.volume = volume    # 현재 설정된 음량\n",
    "        self.on = on            # 텔레비전이 on off 상태 나타내는 bool변수\n",
    "        \n",
    "    def show(self):  # 채널 설정\n",
    "        print(self.channel, self.volume, self.on)\n",
    "\n",
    "# 전달받은 텔레비전의 음량을 줄인다.     \n",
    "def setSilentMote(t):\n",
    "    t.volume = 2"
   ]
  },
  {
   "cell_type": "code",
   "execution_count": 74,
   "metadata": {},
   "outputs": [
    {
     "name": "stdout",
     "output_type": "stream",
     "text": [
      "11 2 True\n"
     ]
    }
   ],
   "source": [
    "# setSilentMode()를 호출해 객체의 내용이 변경되는지 확인하기\n",
    "# 함수안에 객체를 전달하면 객체의 참조값이 전달된다. / 함수안에서 객체의 참조값을 이용하여 객체안의 내용을 변경하면 원본객체가 변경된다\n",
    "myTV = Television(11,10,True)\n",
    "setSilentMote(myTV)\n",
    "myTV.show()"
   ]
  },
  {
   "attachments": {},
   "cell_type": "markdown",
   "metadata": {},
   "source": [
    "## 클래스 변수\n",
    "### 클래스 멤버\n",
    "    * 인스턴스 변수는 항상 객체를 통하여 사용해야함. but 파이썬에서는 통하지않고 생성하는 것이 가능\n",
    "    * 모든 객체를 통틀어서 하나만 생성되고 모든 객체가 이것을 공유하게 된다.\n",
    "\n",
    "### 클래스 변수 \n",
    "    * 모든 객체에 공통인 변수\n",
    "    * 하나의 클래스에 하나만 존재\n",
    "    * 객체보다는 클래스와 연경괴어있다\n",
    "    * 클래스 안이지만 메소드의 외부에 변수를 생성하면 된다."
   ]
  },
  {
   "cell_type": "code",
   "execution_count": 75,
   "metadata": {},
   "outputs": [
    {
     "name": "stdout",
     "output_type": "stream",
     "text": [
      "11 10 True 1\n"
     ]
    }
   ],
   "source": [
    "# 파이썬에서 변수는 실제로 객체를 저장하지 않음 메모리 주소를 저장한다.\n",
    "# 객체 자체는 메모리의 다른 곳에 생성된다\n",
    "class Television:\n",
    "    serialNumber = 0                    # 이것이 클래스 변수\n",
    "    \n",
    "    def __init__(self, channel, volume, on):\n",
    "        self.channel=channel   \n",
    "        self.volume = volume   \n",
    "        self.on = on    \n",
    "        Television.serialNumber += 1    # 클래스 변수를 하나 증가\n",
    "        \n",
    "        # 클래스 변수의 값을 객체의 시리얼 번호로 한다.    \n",
    "        self.number = Television.serialNumber   \n",
    "        \n",
    "    def show(self): \n",
    "        print(self.channel, self.volume, self.on, self.number)\n",
    "\n",
    "myTV = Television(11,10,True)\n",
    "myTV.show()"
   ]
  },
  {
   "attachments": {},
   "cell_type": "markdown",
   "metadata": {},
   "source": [
    "## 상수정의 \n",
    "    * 상수들은 흔히 클래스 변수로 정의된다"
   ]
  },
  {
   "cell_type": "code",
   "execution_count": 76,
   "metadata": {},
   "outputs": [],
   "source": [
    "class Monster :\n",
    "    # 상수 값 정의\n",
    "    WEAK =0\n",
    "    NORMAL = 10\n",
    "    STRONG = 20\n",
    "    VERY_STRONG = 30\n",
    "    \n",
    "    def __inint(self):\n",
    "        self._health = Monster.NORMAL\n",
    "    \n",
    "# eat()메소드가 호출되면 건강을 STRONG으로 변경한다\n",
    "def eat(self):\n",
    "    self._health = Monster.STRONG\n",
    "\n",
    "# 약해지면\n",
    "def attack(self):\n",
    "    self._health = Monster.WEAK"
   ]
  },
  {
   "cell_type": "code",
   "execution_count": 77,
   "metadata": {},
   "outputs": [],
   "source": [
    "# 클래스 변수가 필요한 경우\n",
    "class Dog:\n",
    "    kind = 'Bulldog'        # 클래스 변수\n",
    "\n",
    "    def __init__(self, name, age):\n",
    "        self.name = name    # 각 인스턴스에 유일한 인스턴스 변수\n",
    "        self.age = age      # 각 인스턴스에 유일한 인스턴스 변수"
   ]
  },
  {
   "cell_type": "code",
   "execution_count": 78,
   "metadata": {},
   "outputs": [
    {
     "name": "stdout",
     "output_type": "stream",
     "text": [
      "Bulldog\n",
      "Bulldog\n",
      "Bulldog\n",
      "Baduk\n",
      "Marry\n"
     ]
    }
   ],
   "source": [
    "# 몇개의 강아지 객체를 만든뒤 인스턴스 변수와 클래스 변수를 출력해보기\n",
    "class Dog:\n",
    "    kind = 'Bulldog'        # 모든 인스턴스 변수들이 공유하는 클래스 변수\n",
    "\n",
    "    def __init__(self, name, age):\n",
    "        self.name = name    # 각 인스턴스에 유일한 인스턴스 변수\n",
    "        self.age = age      # 각 인스턴스에 유일한 인스턴스 변수\n",
    "        \n",
    "a=Dog('Baduk',2)\n",
    "b=Dog('Marry',3)\n",
    "\n",
    "print(a.kind)               # 모든 강아지가 공유\n",
    "print(b.kind)               # 모든 강아지가 공유\n",
    "print(Dog.kind)             # 모든 강아지가 공유\n",
    "\n",
    "print(a.name)               # 강아지 a에 유일\n",
    "print(b.name)               # 강아지 b에 유일"
   ]
  },
  {
   "attachments": {},
   "cell_type": "markdown",
   "metadata": {},
   "source": [
    "#### 특수 메소드(pdf.393)\n",
    "    * 연산자에 관련된 특수 메서드 존재\n",
    "    * 연산을 적용하면 자동을 호출된다"
   ]
  },
  {
   "attachments": {},
   "cell_type": "markdown",
   "metadata": {},
   "source": [
    "#### __str__()메서드\n",
    "    * 객체를 출력할때 객체 안의 정보들을 출력하면 도움이 된다\n",
    "    * __str__() 클래스 안에 정의해보기"
   ]
  },
  {
   "cell_type": "code",
   "execution_count": 79,
   "metadata": {},
   "outputs": [
    {
     "ename": "TypeError",
     "evalue": "Counter.__init__() takes 1 positional argument but 2 were given",
     "output_type": "error",
     "traceback": [
      "\u001b[1;31m---------------------------------------------------------------------------\u001b[0m",
      "\u001b[1;31mTypeError\u001b[0m                                 Traceback (most recent call last)",
      "Cell \u001b[1;32mIn[79], line 12\u001b[0m\n\u001b[0;32m      9\u001b[0m         msg\u001b[39m=\u001b[39m\u001b[39m\"\u001b[39m\u001b[39m카운트값:\u001b[39m\u001b[39m\"\u001b[39m \u001b[39m+\u001b[39m \u001b[39mstr\u001b[39m(\u001b[39mself\u001b[39m\u001b[39m.\u001b[39mcount)\n\u001b[0;32m     10\u001b[0m         \u001b[39mreturn\u001b[39;00m msg\n\u001b[1;32m---> 12\u001b[0m a \u001b[39m=\u001b[39m Counter(\u001b[39m100\u001b[39;49m)\n\u001b[0;32m     13\u001b[0m \u001b[39mprint\u001b[39m(a)\n",
      "\u001b[1;31mTypeError\u001b[0m: Counter.__init__() takes 1 positional argument but 2 were given"
     ]
    }
   ],
   "source": [
    "class Counter:\n",
    "    def __init__(self):\n",
    "        self.count = 0\n",
    "        \n",
    "    def increment(self):\n",
    "        self.count +=1\n",
    "        \n",
    "    def __str__(self):\n",
    "        msg=\"카운트값:\" + str(self.count)\n",
    "        return msg\n",
    "\n",
    "a = Counter(100)\n",
    "print(a)"
   ]
  },
  {
   "attachments": {},
   "cell_type": "markdown",
   "metadata": {},
   "source": [
    "### 벡터 객체에 특수 메서드 정의하기\n",
    "    * 2차원 공간에서 벡터(vector)는 (a, b)와 같이 2개의 실수로 표현될 수 있다.\n",
    "    * 벡터 간에는 덧셈이나 뺄셈이 정의된다.\n",
    "    * ex) (a, b) + (c,d) = (a+c, b+d)\n",
    "    * ex) (a, b) - (c,d) = (a-c, b-d)"
   ]
  },
  {
   "cell_type": "code",
   "execution_count": null,
   "metadata": {},
   "outputs": [
    {
     "name": "stdout",
     "output_type": "stream",
     "text": [
      "(1, 1)\n"
     ]
    }
   ],
   "source": [
    "class Vector2D:\n",
    "    def __init__(self, x, y):\n",
    "        self.x = x\n",
    "        self.y = y\n",
    "    \n",
    "    def __add__(self, other):\n",
    "        return Vector2D(self.x + other.x, self.y + other.y)\n",
    "    \n",
    "    def __sub__(self, other):\n",
    "        return Vector2D(self.x - other.x, self.y - other.y)\n",
    "    \n",
    "    def __eq__(self, other):\n",
    "        return Vector2D(self.x == other.x and self.y == other.y)\n",
    "    \n",
    "    def __str__(self):\n",
    "        return '(%g, %g)' % (self.x, self.y)\n",
    "    \n",
    "    \n",
    "u = Vector2D(0,1)\n",
    "v = Vector2D(1,0)\n",
    "w = Vector2D(1,1)\n",
    "a = u + v\n",
    "print(a)    "
   ]
  },
  {
   "attachments": {},
   "cell_type": "markdown",
   "metadata": {},
   "source": [
    "#### 주사위 클래스\n",
    "    * 주사위의 값(value)\n",
    "    * 주사위의 위치 (x, y)\n",
    "    * 주사위의 크기 (size)\n",
    "\n",
    "    ====\n",
    "    * 주사위를 초기화하는 연산(__init__)\n",
    "    * 주사위를 던지는 연산(roll_dice)\n",
    "    * 주사위의 값을 읽는 연산(read_dice)\n",
    "    * 주사위를 화면에 출력하는 연산(print_dice)"
   ]
  },
  {
   "cell_type": "code",
   "execution_count": 83,
   "metadata": {},
   "outputs": [
    {
     "name": "stdout",
     "output_type": "stream",
     "text": [
      "주사위의 값= 4\n"
     ]
    }
   ],
   "source": [
    "from random import randint\n",
    "\n",
    "class Dice:\n",
    "    \n",
    "    def __init__(self, x, y):\n",
    "        self.__x = x\n",
    "        self.__y = y\n",
    "        self.__size = 30\n",
    "        self.__value = 1\n",
    "    \n",
    "    def read_dice(self):\n",
    "        return self.__value\n",
    "    \n",
    "    def print_dice(self):\n",
    "        print('주사위의 값=', self.__value)\n",
    "        \n",
    "    def roll_dice(self):\n",
    "        self.__value = randint(1,6)\n",
    "        \n",
    "        \n",
    "d=Dice(100,100)\n",
    "d.roll_dice()\n",
    "d.print_dice()"
   ]
  },
  {
   "cell_type": "code",
   "execution_count": 1,
   "metadata": {},
   "outputs": [],
   "source": [
    "# 소정이의 링크 클래스에 유용한것 https://sputnik-kr.tistory.com/m/148"
   ]
  },
  {
   "cell_type": "code",
   "execution_count": null,
   "metadata": {},
   "outputs": [],
   "source": []
  }
 ],
 "metadata": {
  "kernelspec": {
   "display_name": "Python 3",
   "language": "python",
   "name": "python3"
  },
  "language_info": {
   "codemirror_mode": {
    "name": "ipython",
    "version": 3
   },
   "file_extension": ".py",
   "mimetype": "text/x-python",
   "name": "python",
   "nbconvert_exporter": "python",
   "pygments_lexer": "ipython3",
   "version": "3.11.1"
  },
  "orig_nbformat": 4
 },
 "nbformat": 4,
 "nbformat_minor": 2
}
