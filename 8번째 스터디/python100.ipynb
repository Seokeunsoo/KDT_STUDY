{
  "cells": [
    {
      "cell_type": "markdown",
      "metadata": {
        "id": "Wbzn7_7ym2kI"
      },
      "source": [
        "# Datamanim \n",
        "## 판다스 연습 튜토리얼\n",
        "### 01 Getting & Knowing Data\n",
        "* Attention\n",
        "> * 롤 랭킹 데이터 : https://www.kaggle.com/datasnaek/league-of-legends\n",
        "> * DataUrl = ‘https://raw.githubusercontent.com/Datamanim/pandas/main/lol.csv’\n",
        "#### 1) 데이터를 로드하라. 데이터는 \\t을 기준으로 구분되어있다."
      ]
    },
    {
      "cell_type": "code",
      "execution_count": null,
      "metadata": {
        "id": "zgSe9KAYo6GQ"
      },
      "outputs": [],
      "source": []
    },
    {
      "cell_type": "markdown",
      "metadata": {
        "id": "HwwBNW-JpBDY"
      },
      "source": [
        "#### 2) 데이터의 상위 5개 행을 출력하라"
      ]
    },
    {
      "cell_type": "code",
      "execution_count": null,
      "metadata": {
        "id": "EX6XodM0pJvR"
      },
      "outputs": [],
      "source": []
    },
    {
      "cell_type": "markdown",
      "metadata": {
        "id": "Ls56OziNpMnJ"
      },
      "source": [
        "#### 3) 데이터의 행과 열의 갯수를 파악하라"
      ]
    },
    {
      "cell_type": "code",
      "execution_count": null,
      "metadata": {
        "id": "rySaWPmIpVq4"
      },
      "outputs": [],
      "source": []
    },
    {
      "cell_type": "markdown",
      "metadata": {
        "id": "d0CIE713p5dJ"
      },
      "source": [
        "#### 4) 전체 컬럼을 출력하라"
      ]
    },
    {
      "cell_type": "code",
      "execution_count": null,
      "metadata": {
        "id": "bTjDl5Qkp8ZY"
      },
      "outputs": [],
      "source": []
    },
    {
      "cell_type": "markdown",
      "metadata": {
        "id": "3X4NLLRGqUyA"
      },
      "source": [
        "#### 5) 6번째 컬럼명을 출력하라"
      ]
    },
    {
      "cell_type": "code",
      "execution_count": null,
      "metadata": {
        "id": "ajNHmsHTqYEQ"
      },
      "outputs": [],
      "source": []
    },
    {
      "cell_type": "markdown",
      "metadata": {
        "id": "Sk8O1-LWqZ_o"
      },
      "source": [
        "#### 6) 6번째 컬럼의 데이터 타입을 확인하라"
      ]
    },
    {
      "cell_type": "code",
      "execution_count": null,
      "metadata": {
        "id": "uB531sL6qeCh"
      },
      "outputs": [],
      "source": []
    },
    {
      "cell_type": "markdown",
      "metadata": {
        "id": "gL9aA1Ytqftx"
      },
      "source": [
        "#### 7) 데이터셋의 인덱스 구성은 어떤가"
      ]
    },
    {
      "cell_type": "code",
      "execution_count": null,
      "metadata": {
        "id": "aTpzbnvXqhmh"
      },
      "outputs": [],
      "source": []
    },
    {
      "cell_type": "markdown",
      "metadata": {
        "id": "r19IPRWEq_0I"
      },
      "source": [
        "#### 8) 6번째 컬럼의 3번째 값은 무엇인가?\n"
      ]
    },
    {
      "cell_type": "code",
      "execution_count": null,
      "metadata": {
        "id": "Oj0Rez8ktiXh"
      },
      "outputs": [],
      "source": []
    },
    {
      "cell_type": "markdown",
      "metadata": {
        "id": "l8VFURvltkeR"
      },
      "source": [
        "* Attention\n",
        "> * 제주 날씨,인구에 따른 교통량데이터 : 출처 제주 데이터 허브 \n",
        "> * DataUrl = ‘https://raw.githubusercontent.com/Datamanim/pandas/main/Jeju.csv’\n",
        "\n",
        "#### 9) 데이터를 로드하라. 컬럼이 한글이기에 적절한 처리해줘야함"
      ]
    },
    {
      "cell_type": "code",
      "execution_count": null,
      "metadata": {
        "id": "1NgXjkrDt5Ah"
      },
      "outputs": [],
      "source": []
    },
    {
      "cell_type": "markdown",
      "metadata": {
        "id": "Azs1CVh8t5RJ"
      },
      "source": [
        "#### 10) 데이터 마지막 3개행을 출력하라"
      ]
    },
    {
      "cell_type": "code",
      "execution_count": null,
      "metadata": {
        "id": "iV1xN-yzt97B"
      },
      "outputs": [],
      "source": []
    },
    {
      "cell_type": "markdown",
      "metadata": {
        "id": "Ep1QxSddt-kR"
      },
      "source": [
        "#### 11) 수치형 변수를 가진 컬럼을 출력하라"
      ]
    },
    {
      "cell_type": "code",
      "execution_count": null,
      "metadata": {
        "id": "6mjPzYdmuBBy"
      },
      "outputs": [],
      "source": []
    },
    {
      "cell_type": "markdown",
      "metadata": {
        "id": "PIRB_NfzuC4B"
      },
      "source": [
        "#### 12) 범주형 변수를 가진 컬럼을 출력하라\n"
      ]
    },
    {
      "cell_type": "code",
      "execution_count": null,
      "metadata": {
        "id": "5pYG6-uMuEyZ"
      },
      "outputs": [],
      "source": []
    },
    {
      "cell_type": "markdown",
      "metadata": {
        "id": "p4-Hdxn0uE6i"
      },
      "source": [
        "#### 13) 각 컬럼의 결측치 숫자를 파악하라"
      ]
    },
    {
      "cell_type": "code",
      "execution_count": null,
      "metadata": {
        "id": "S2mfZyynuGxI"
      },
      "outputs": [],
      "source": []
    },
    {
      "cell_type": "markdown",
      "metadata": {
        "id": "auNNv2zauG4I"
      },
      "source": [
        "#### 14) 각 컬럼의 데이터수, 데이터타입을 한번에 확인하라"
      ]
    },
    {
      "cell_type": "code",
      "execution_count": null,
      "metadata": {
        "id": "OTIneTXjuJ5x"
      },
      "outputs": [],
      "source": []
    },
    {
      "cell_type": "markdown",
      "metadata": {
        "id": "-LwFGl1LuKBw"
      },
      "source": [
        "#### 15) 각 수치형 변수의 분포(사분위, 평균, 표준편차, 최대 , 최소)를 확인하라"
      ]
    },
    {
      "cell_type": "code",
      "execution_count": null,
      "metadata": {
        "id": "2RUxqJ_AuM-w"
      },
      "outputs": [],
      "source": []
    },
    {
      "cell_type": "markdown",
      "metadata": {
        "id": "mCA8ItNJuNFL"
      },
      "source": [
        "#### 16) 거주인구 컬럼의 값들을 출력하라"
      ]
    },
    {
      "cell_type": "code",
      "execution_count": null,
      "metadata": {
        "id": "xK8ksWg6uPb4"
      },
      "outputs": [],
      "source": []
    },
    {
      "cell_type": "markdown",
      "metadata": {
        "id": "sAlx7UkBuP4I"
      },
      "source": [
        "#### 17) 평균 속도 컬럼의 4분위 범위(IQR) 값을 구하여라"
      ]
    },
    {
      "cell_type": "code",
      "execution_count": null,
      "metadata": {
        "id": "zmQlsUT7uR2Z"
      },
      "outputs": [],
      "source": []
    },
    {
      "cell_type": "markdown",
      "metadata": {
        "id": "3zCrTfQBuR9x"
      },
      "source": [
        "#### 18) 읍면동명 컬럼의 유일값 갯수를 출력하라\n",
        "\n"
      ]
    },
    {
      "cell_type": "code",
      "execution_count": null,
      "metadata": {
        "id": "fvhCcm82uVyJ"
      },
      "outputs": [],
      "source": []
    },
    {
      "cell_type": "markdown",
      "metadata": {
        "id": "r6kjob-ouV5R"
      },
      "source": [
        "#### 19) 읍면동명 컬럼의 유일값을 모두 출력하라"
      ]
    },
    {
      "cell_type": "code",
      "execution_count": null,
      "metadata": {
        "id": "3f67HYoLuY2Z"
      },
      "outputs": [],
      "source": []
    },
    {
      "cell_type": "markdown",
      "metadata": {
        "id": "SCMtGrgouZCJ"
      },
      "source": [
        "### 02 Filtering & Sorting\n",
        "\n",
        "* Attention\n",
        "> * 식당데이터 : https://github.com/justmarkham/DAT8/blob/master/data/chipotle.tsv\n",
        "> * DataUrl = ‘https://raw.githubusercontent.com/Datamanim/pandas/main/chipo.csv’\n",
        "\n",
        "#### 20) 데이터를 로드하라.\n",
        "\n"
      ]
    },
    {
      "cell_type": "code",
      "execution_count": null,
      "metadata": {
        "id": "rPIX4a0duyNZ"
      },
      "outputs": [],
      "source": []
    },
    {
      "cell_type": "markdown",
      "metadata": {
        "id": "xVgu2JisuyVS"
      },
      "source": [
        "#### 21) quantity컬럼 값이 3인 데이터를 추출하여 첫 5행을 출력하라"
      ]
    },
    {
      "cell_type": "code",
      "execution_count": null,
      "metadata": {
        "id": "dtWqEMjKu00i"
      },
      "outputs": [],
      "source": []
    },
    {
      "cell_type": "markdown",
      "metadata": {
        "id": "wCNFnVvyu08h"
      },
      "source": [
        "#### 22) quantity컬럼 값이 3인 데이터를 추출하여 index를 0부터 정렬하고 첫 5행을 출력하라\n"
      ]
    },
    {
      "cell_type": "code",
      "execution_count": null,
      "metadata": {
        "id": "j-y86EeWu2t5"
      },
      "outputs": [],
      "source": []
    },
    {
      "cell_type": "markdown",
      "metadata": {
        "id": "G4_OVPn1u20m"
      },
      "source": [
        "#### 23) quantity , item_price 두개의 컬럼으로 구성된 새로운 데이터 프레임을 정의하라\n",
        "\n"
      ]
    },
    {
      "cell_type": "code",
      "execution_count": null,
      "metadata": {
        "id": "O2B8hmdOu4SR"
      },
      "outputs": [],
      "source": []
    },
    {
      "cell_type": "markdown",
      "metadata": {
        "id": "yn1Phf6bu4YZ"
      },
      "source": [
        "#### 24) item_price 컬럼의 달러표시 문자를 제거하고 float 타입으로 저장하여 new_price 컬럼에 저장하라\n"
      ]
    },
    {
      "cell_type": "code",
      "execution_count": null,
      "metadata": {
        "id": "R_572KFdu5t5"
      },
      "outputs": [],
      "source": []
    },
    {
      "cell_type": "markdown",
      "metadata": {
        "id": "w_mW50q9u5zi"
      },
      "source": [
        "#### 25) new_price 컬럼이 5이하의 값을 가지는 데이터프레임을 추출하고, 전체 갯수를 구하여라\n",
        "\n"
      ]
    },
    {
      "cell_type": "code",
      "execution_count": null,
      "metadata": {
        "id": "OaoKntpGvKsZ"
      },
      "outputs": [],
      "source": []
    },
    {
      "cell_type": "markdown",
      "metadata": {
        "id": "Vusq65i4vKzE"
      },
      "source": [
        "#### 26) item_name명이 Chicken Salad Bowl 인 데이터 프레임을 추출하라고 index 값을 초기화 하여라\n",
        "\n"
      ]
    },
    {
      "cell_type": "markdown",
      "metadata": {
        "id": "K21nwmA3vU8J"
      },
      "source": []
    },
    {
      "cell_type": "code",
      "execution_count": null,
      "metadata": {
        "id": "uqKqxgkKvMIC"
      },
      "outputs": [],
      "source": []
    },
    {
      "cell_type": "markdown",
      "metadata": {
        "id": "SMxgByFFvMNq"
      },
      "source": [
        "#### 27) new_price값이 9 이하이고 item_name 값이 Chicken Salad Bowl 인 데이터 프레임을 추출하라\n",
        "\n"
      ]
    },
    {
      "cell_type": "code",
      "execution_count": null,
      "metadata": {
        "id": "J8musxP4vNpp"
      },
      "outputs": [],
      "source": []
    },
    {
      "cell_type": "markdown",
      "metadata": {
        "id": "lHm1TF1kvNv5"
      },
      "source": [
        "#### 28) df의 new_price 컬럼 값에 따라 오름차순으로 정리하고 index를 초기화 하여라\n",
        "\n"
      ]
    },
    {
      "cell_type": "code",
      "execution_count": null,
      "metadata": {
        "id": "ISDhtIjQvPTC"
      },
      "outputs": [],
      "source": []
    },
    {
      "cell_type": "markdown",
      "metadata": {
        "id": "7pwXosdjvPaJ"
      },
      "source": [
        "#### 29) df의 item_name 컬럼 값중 Chips 포함하는 경우의 데이터를 출력하라\n"
      ]
    },
    {
      "cell_type": "code",
      "execution_count": null,
      "metadata": {
        "id": "R0mCTfXPvQ4S"
      },
      "outputs": [],
      "source": []
    },
    {
      "cell_type": "markdown",
      "metadata": {
        "id": "kLn8GHZ8vQ9B"
      },
      "source": [
        "#### 30) df의 짝수번째 컬럼만을 포함하는 데이터프레임을 출력하라\n",
        "\n"
      ]
    },
    {
      "cell_type": "code",
      "execution_count": null,
      "metadata": {
        "id": "7DxvXNw7vSfh"
      },
      "outputs": [],
      "source": []
    },
    {
      "cell_type": "markdown",
      "metadata": {
        "id": "ElZ5CEfvvSlH"
      },
      "source": [
        "#### 31) df의 new_price 컬럼 값에 따라 내림차순으로 정리하고 index를 초기화 하여라\n",
        "\n"
      ]
    },
    {
      "cell_type": "code",
      "execution_count": null,
      "metadata": {
        "id": "-VixzOBmvUsC"
      },
      "outputs": [],
      "source": []
    },
    {
      "cell_type": "markdown",
      "metadata": {
        "id": "58jCiFofvXAR"
      },
      "source": [
        "#### 32) df의 item_name 컬럼 값이 Steak Salad 또는 Bowl 인 데이터를 인덱싱하라\n",
        "\n"
      ]
    },
    {
      "cell_type": "code",
      "execution_count": null,
      "metadata": {
        "id": "4n6F3dA7vYgq"
      },
      "outputs": [],
      "source": []
    },
    {
      "cell_type": "markdown",
      "metadata": {
        "id": "npEa6BSwvYnh"
      },
      "source": [
        "#### 33) df의 item_name 컬럼 값이 Steak Salad 또는 Bowl 인 데이터를 데이터 프레임화 한 후, item_name를 기준으로 중복행이 있으면 제거하되 첫번째 케이스만 남겨라\n"
      ]
    },
    {
      "cell_type": "code",
      "execution_count": null,
      "metadata": {
        "id": "79JCqinKvaJB"
      },
      "outputs": [],
      "source": []
    },
    {
      "cell_type": "markdown",
      "metadata": {
        "id": "1VP7i_lEvaOt"
      },
      "source": [
        "#### 34) df의 item_name 컬럼 값이 Steak Salad 또는 Bowl 인 데이터를 데이터 프레임화 한 후, item_name를 기준으로 중복행이 있으면 제거하되 마지막 케이스만 남겨라\n",
        "\n"
      ]
    },
    {
      "cell_type": "code",
      "execution_count": null,
      "metadata": {
        "id": "C7-KMkNPvbg6"
      },
      "outputs": [],
      "source": []
    },
    {
      "cell_type": "markdown",
      "metadata": {
        "id": "9obxeKCVvbm6"
      },
      "source": [
        "#### 35) df의 데이터 중 new_price값이 new_price값의 평균값 이상을 가지는 데이터들을 인덱싱하라\n",
        "\n"
      ]
    },
    {
      "cell_type": "code",
      "execution_count": null,
      "metadata": {
        "id": "7Pv8DzQUvdyp"
      },
      "outputs": [],
      "source": []
    },
    {
      "cell_type": "markdown",
      "metadata": {
        "id": "vD5BSHMQvd3Z"
      },
      "source": [
        "#### 36) df의 데이터 중 item_name의 값이 Izze 데이터를 Fizzy Lizzy로 수정하라\n",
        "\n"
      ]
    },
    {
      "cell_type": "code",
      "execution_count": null,
      "metadata": {
        "id": "mPhPcbAIvfj5"
      },
      "outputs": [],
      "source": []
    },
    {
      "cell_type": "markdown",
      "metadata": {
        "id": "2A7pmG4Ivk8J"
      },
      "source": [
        "#### 37) df의 데이터 중 choice_description 값이 NaN 인 데이터의 갯수를 구하여라\n",
        "\n"
      ]
    },
    {
      "cell_type": "code",
      "execution_count": null,
      "metadata": {
        "id": "QtLdhV7evnWp"
      },
      "outputs": [],
      "source": []
    },
    {
      "cell_type": "markdown",
      "metadata": {
        "id": "WEzsIgoHvncp"
      },
      "source": [
        "#### 38) df의 데이터 중 choice_description 값이 NaN 인 데이터를 NoData 값으로 대체하라(loc 이용)\n",
        "\n"
      ]
    },
    {
      "cell_type": "code",
      "execution_count": null,
      "metadata": {
        "id": "zAaJg9bBvpDZ"
      },
      "outputs": [],
      "source": []
    },
    {
      "cell_type": "markdown",
      "metadata": {
        "id": "m3zuM9BxvpIB"
      },
      "source": [
        "#### 39) df의 데이터 중 choice_description 값에 Black이 들어가는 경우를 인덱싱하라\n",
        "\n"
      ]
    },
    {
      "cell_type": "code",
      "execution_count": null,
      "metadata": {
        "id": "mGP1R6YAvqqi"
      },
      "outputs": [],
      "source": []
    },
    {
      "cell_type": "markdown",
      "metadata": {
        "id": "WsHjdi01vqxK"
      },
      "source": [
        "#### 40) df의 데이터 중 choice_description 값에 Vegetables 들어가지 않는 경우의 갯수를 출력하라\n",
        "\n"
      ]
    },
    {
      "cell_type": "code",
      "execution_count": null,
      "metadata": {
        "id": "UAeFN3F1vsya"
      },
      "outputs": [],
      "source": []
    },
    {
      "cell_type": "markdown",
      "metadata": {
        "id": "-lhtKusbvs5Z"
      },
      "source": [
        "#### 41) df의 데이터 중 item_name 값이 N으로 시작하는 데이터를 모두 추출하라\n",
        "\n"
      ]
    },
    {
      "cell_type": "code",
      "execution_count": null,
      "metadata": {
        "id": "0e-lP_0YvtyS"
      },
      "outputs": [],
      "source": []
    },
    {
      "cell_type": "markdown",
      "metadata": {
        "id": "Etw7gQDDvt5K"
      },
      "source": [
        "#### 42) df의 데이터 중 item_name 값의 단어갯수가 15개 이상인 데이터를 인덱싱하라\n",
        "\n"
      ]
    },
    {
      "cell_type": "code",
      "execution_count": null,
      "metadata": {
        "id": "oDsA1JaHvvKK"
      },
      "outputs": [],
      "source": []
    },
    {
      "cell_type": "markdown",
      "metadata": {
        "id": "Cgmb1_G7vvPJ"
      },
      "source": [
        "#### 43) df의 데이터 중 new_price값이 lst에 해당하는 경우의 데이터 프레임을 구하고 그 갯수를 출력하라 lst =[1.69, 2.39, 3.39, 4.45, 9.25, 10.98, 11.75, 16.98]\n"
      ]
    },
    {
      "cell_type": "code",
      "execution_count": null,
      "metadata": {
        "id": "4aLtOTv1vwf0"
      },
      "outputs": [],
      "source": []
    },
    {
      "cell_type": "markdown",
      "metadata": {
        "id": "qOICXHgJvwmB"
      },
      "source": [
        "### 03_Grouping\n",
        "\n",
        "* Attention\n",
        "\n",
        "> * 뉴욕 airBnB : https://www.kaggle.com/ptoscano230382/air-bnb-ny-2019 \n",
        "> * DataUrl = ‘https://raw.githubusercontent.com/Datamanim/pandas/main/AB_NYC_2019.csv’\n",
        "\n",
        "#### 44) 데이터를 로드하고 상위 5개 컬럼을 출력하라\n",
        "\n"
      ]
    },
    {
      "cell_type": "code",
      "execution_count": null,
      "metadata": {
        "id": "VoyFmwNnwAtb"
      },
      "outputs": [],
      "source": []
    },
    {
      "cell_type": "markdown",
      "metadata": {
        "id": "NZGbSexkwA2z"
      },
      "source": [
        "#### 45) 데이터의 각 host_name의 빈도수를 구하고 host_name으로 정렬하여 상위 5개를 출력하라\n",
        "\n"
      ]
    },
    {
      "cell_type": "code",
      "execution_count": null,
      "metadata": {
        "id": "yKs0aYNPwCNz"
      },
      "outputs": [],
      "source": []
    },
    {
      "cell_type": "markdown",
      "metadata": {
        "id": "2bKtiOfuwCTq"
      },
      "source": [
        "#### 46) 데이터의 각 host_name의 빈도수를 구하고 빈도수 기준 내림차순 정렬한 데이터 프레임을 만들어라. 빈도수 컬럼은 counts로 명명하라\n",
        "\n"
      ]
    },
    {
      "cell_type": "code",
      "execution_count": null,
      "metadata": {
        "id": "aqAqA5z5wD8z"
      },
      "outputs": [],
      "source": []
    },
    {
      "cell_type": "markdown",
      "metadata": {
        "id": "VKdCB4NMwEDy"
      },
      "source": [
        "#### 47) neighbourhood_group의 값에 따른 neighbourhood컬럼 값의 갯수를 구하여라\n",
        "\n"
      ]
    },
    {
      "cell_type": "code",
      "execution_count": null,
      "metadata": {
        "id": "Yk1c0MvFwFda"
      },
      "outputs": [],
      "source": []
    },
    {
      "cell_type": "markdown",
      "metadata": {
        "id": "3swVJ4JNwFiC"
      },
      "source": [
        "#### 48) neighbourhood_group의 값에 따른 neighbourhood컬럼 값 중 neighbourhood_group그룹의 최댓값들을 출력하라\n",
        "\n"
      ]
    },
    {
      "cell_type": "code",
      "execution_count": null,
      "metadata": {
        "id": "mIFFyCOpwHCK"
      },
      "outputs": [],
      "source": []
    },
    {
      "cell_type": "markdown",
      "metadata": {
        "id": "61RxggCXwHJK"
      },
      "source": [
        "#### 49) neighbourhood_group 값에 따른 price값의 평균, 분산, 최대, 최소 값을 구하여라\n",
        "\n"
      ]
    },
    {
      "cell_type": "code",
      "execution_count": null,
      "metadata": {
        "id": "nyOJRnvbwIRi"
      },
      "outputs": [],
      "source": []
    },
    {
      "cell_type": "markdown",
      "metadata": {
        "id": "eMsYgx05wIXd"
      },
      "source": [
        "#### 50) neighbourhood_group 값에 따른 reviews_per_month 평균, 분산, 최대, 최소 값을 구하여라\n",
        "\n"
      ]
    },
    {
      "cell_type": "code",
      "execution_count": null,
      "metadata": {
        "id": "2d6eU6H1wKa7"
      },
      "outputs": [],
      "source": []
    },
    {
      "cell_type": "markdown",
      "metadata": {
        "id": "9yxELv-AwKjz"
      },
      "source": [
        "#### 51) neighbourhood 값과 neighbourhood_group 값에 따른 price 의 평균을 구하라\n",
        "\n"
      ]
    },
    {
      "cell_type": "code",
      "execution_count": null,
      "metadata": {
        "id": "L4RN8DnhwMHS"
      },
      "outputs": [],
      "source": []
    },
    {
      "cell_type": "markdown",
      "metadata": {
        "id": "kBTatg4AwMNN"
      },
      "source": [
        "#### 52) neighbourhood 값과 neighbourhood_group 값에 따른 price 의 평균을 계층적 indexing 없이 구하라\n",
        "\n"
      ]
    },
    {
      "cell_type": "code",
      "execution_count": null,
      "metadata": {
        "id": "N8JlHZihwNYi"
      },
      "outputs": [],
      "source": []
    },
    {
      "cell_type": "markdown",
      "metadata": {
        "id": "EEBCS-ivwNeb"
      },
      "source": [
        "#### 53) neighbourhood 값과 neighbourhood_group 값에 따른 price 의 평균을 계층적 indexing 없이 구하고 nan 값은 -999값으로 채워라\n",
        "\n"
      ]
    },
    {
      "cell_type": "code",
      "execution_count": null,
      "metadata": {
        "id": "LWyrSdwjwP86"
      },
      "outputs": [],
      "source": []
    },
    {
      "cell_type": "markdown",
      "metadata": {
        "id": "VuMA7T8SwQC4"
      },
      "source": [
        "#### 54) 데이터중 neighbourhood_group 값이 Queens값을 가지는 데이터들 중 neighbourhood 그룹별로 price값의 평균, 분산, 최대, 최소값을 구하라\n",
        "\n"
      ]
    },
    {
      "cell_type": "code",
      "execution_count": null,
      "metadata": {
        "id": "lSkeJBuTwaHC"
      },
      "outputs": [],
      "source": []
    },
    {
      "cell_type": "markdown",
      "metadata": {
        "id": "KYbQ5zeMwaPb"
      },
      "source": [
        "#### 55) 데이터중 neighbourhood_group 값에 따른 room_type 컬럼의 숫자를 구하고 neighbourhood_group 값을 기준으로 각 값의 비율을 구하여라\n",
        "\n"
      ]
    },
    {
      "cell_type": "code",
      "execution_count": null,
      "metadata": {
        "id": "-zXuTnJ7wbmi"
      },
      "outputs": [],
      "source": []
    },
    {
      "cell_type": "markdown",
      "metadata": {
        "id": "8O3fjWMPwbuT"
      },
      "source": [
        "### 04_Apply , Map\n",
        "\n",
        "* Attention\n",
        "\n",
        "> * 카드이용데이터 : https://www.kaggle.com/sakshigoyal7/credit-card-customers \n",
        "> * DataUrl = ‘https://raw.githubusercontent.com/Datamanim/pandas/main/BankChurnersUp.csv’\n",
        "\n",
        "#### 56) 데이터를 로드하고 데이터 행과 열의 갯수를 출력하라\n",
        "\n"
      ]
    },
    {
      "cell_type": "code",
      "execution_count": null,
      "metadata": {
        "id": "WFrEg5Vhwl2i"
      },
      "outputs": [],
      "source": []
    },
    {
      "cell_type": "markdown",
      "metadata": {
        "id": "wzNeMdDBwl-a"
      },
      "source": [
        "#### 57) Income_Category의 카테고리를 map 함수를 이용하여 다음과 같이 변경하여 newIncome 컬럼에 매핑하라 Unknown : N\n",
        "Less than $40K : a\n",
        "$40K - $60K : b\n",
        "$60K - $80K : c\n",
        "$80K - $120K : d\n",
        "$120K +’ : e"
      ]
    },
    {
      "cell_type": "code",
      "execution_count": null,
      "metadata": {
        "id": "3leGZtKdwpNR"
      },
      "outputs": [],
      "source": []
    },
    {
      "cell_type": "markdown",
      "metadata": {
        "id": "_IC50ucRwpTh"
      },
      "source": [
        "#### 58) Income_Category의 카테고리를 apply 함수를 이용하여 다음과 같이 변경하여 newIncome 컬럼에 매핑하라 Unknown : N\n",
        "Less than $40K : a\n",
        "$40K - $60K : b\n",
        "$60K - $80K : c\n",
        "$80K - $120K : d\n",
        "$120K +’ : e"
      ]
    },
    {
      "cell_type": "code",
      "execution_count": null,
      "metadata": {
        "id": "TbsrqAcQwrHz"
      },
      "outputs": [],
      "source": []
    },
    {
      "cell_type": "markdown",
      "metadata": {
        "id": "VzEchC99wrN3"
      },
      "source": [
        "#### 59) Customer_Age의 값을 이용하여 나이 구간을 AgeState 컬럼으로 정의하라. (0~9 : 0 , 10~19 :10 , 20~29 :20 … 각 구간의 빈도수를 출력하라"
      ]
    },
    {
      "cell_type": "code",
      "execution_count": null,
      "metadata": {
        "id": "YIgbyfurws-Z"
      },
      "outputs": [],
      "source": []
    },
    {
      "cell_type": "markdown",
      "metadata": {
        "id": "E46O5dW8wtFK"
      },
      "source": [
        "#### 60) Education_Level의 값중 Graduate단어가 포함되는 값은 1 그렇지 않은 경우에는 0으로 변경하여 newEduLevel 컬럼을 정의하고 빈도수를 출력하라\n",
        "\n"
      ]
    },
    {
      "cell_type": "code",
      "execution_count": null,
      "metadata": {
        "id": "mux1K9_Ewuia"
      },
      "outputs": [],
      "source": []
    },
    {
      "cell_type": "markdown",
      "metadata": {
        "id": "dIrPR5Bnwura"
      },
      "source": [
        "#### 61) Credit_Limit 컬럼값이 4500 이상인 경우 1 그외의 경우에는 모두 0으로 하는 newLimit 정의하라. newLimit 각 값들의 빈도수를 출력하라"
      ]
    },
    {
      "cell_type": "code",
      "execution_count": null,
      "metadata": {
        "id": "VRJ9KPKUwwPa"
      },
      "outputs": [],
      "source": []
    },
    {
      "cell_type": "markdown",
      "metadata": {
        "id": "iPjpjP6nwwV0"
      },
      "source": [
        "#### 62) Marital_Status 컬럼값이 Married 이고 Card_Category 컬럼의 값이 Platinum인 경우 1 그외의 경우에는 모두 0으로 하는 newState컬럼을 정의하라. newState의 각 값들의 빈도수를 출력하라"
      ]
    },
    {
      "cell_type": "code",
      "execution_count": null,
      "metadata": {
        "id": "XImuENRswx4J"
      },
      "outputs": [],
      "source": []
    },
    {
      "cell_type": "markdown",
      "metadata": {
        "id": "K2D3XiYKwx_J"
      },
      "source": [
        "#### 63) Gender 컬럼값 M인 경우 male F인 경우 female로 값을 변경하여 Gender 컬럼에 새롭게 정의하라. 각 value의 빈도를 출력하라"
      ]
    },
    {
      "cell_type": "code",
      "execution_count": null,
      "metadata": {
        "id": "xDddc6Dbwzhx"
      },
      "outputs": [],
      "source": []
    },
    {
      "cell_type": "markdown",
      "metadata": {
        "id": "LqnPgKFTwzoi"
      },
      "source": [
        "### 05_Time_Series\n",
        "\n",
        "* Attention\n",
        "\n",
        "> * 주가 데이터 : https://raw.githubusercontent.com/guipsamora/pandas_exercises/master/06_Stats/Wind_Stats/wind.data \n",
        "> * DataUrl = ‘https://raw.githubusercontent.com/Datamanim/pandas/main/timeTest.csv’\n",
        "\n",
        "#### 64) 데이터를 로드하고 각 열의 데이터 타입을 파악하라\n",
        "\n",
        "\n"
      ]
    },
    {
      "cell_type": "code",
      "execution_count": null,
      "metadata": {
        "id": "e3yguTznw6N6"
      },
      "outputs": [],
      "source": []
    },
    {
      "cell_type": "markdown",
      "metadata": {
        "id": "QHLYoa8xw6Vy"
      },
      "source": [
        "#### 65) Yr_Mo_Dy을 판다스에서 인식할 수 있는 datetime64타입으로 변경하라\n",
        "\n"
      ]
    },
    {
      "cell_type": "code",
      "execution_count": null,
      "metadata": {
        "id": "OmfakH8uw8W7"
      },
      "outputs": [],
      "source": []
    },
    {
      "cell_type": "markdown",
      "metadata": {
        "id": "NRB6oPd0w8eC"
      },
      "source": [
        "#### 66) Yr_Mo_Dy에 존재하는 년도의 유일값을 모두 출력하라\n",
        "\n"
      ]
    },
    {
      "cell_type": "code",
      "execution_count": null,
      "metadata": {
        "id": "wGDrIK_Nw9hK"
      },
      "outputs": [],
      "source": []
    },
    {
      "cell_type": "markdown",
      "metadata": {
        "id": "21uhSi3Sw9qi"
      },
      "source": [
        "#### 67) Yr_Mo_Dy에 년도가 2061년 이상의 경우에는 모두 잘못된 데이터이다. 해당경우의 값은 100을 빼서 새롭게 날짜를 Yr_Mo_Dy 컬럼에 정의하라\n",
        "\n"
      ]
    },
    {
      "cell_type": "code",
      "execution_count": null,
      "metadata": {
        "id": "zArkoiZNw_Wb"
      },
      "outputs": [],
      "source": []
    },
    {
      "cell_type": "markdown",
      "metadata": {
        "id": "Omh7Q4EIw_fT"
      },
      "source": [
        "#### 68) 년도별 각컬럼의 평균값을 구하여라\n",
        "\n"
      ]
    },
    {
      "cell_type": "code",
      "execution_count": null,
      "metadata": {
        "id": "994A3QcjxBN6"
      },
      "outputs": [],
      "source": []
    },
    {
      "cell_type": "markdown",
      "metadata": {
        "id": "Ec8dIgZHxBUD"
      },
      "source": [
        "#### 69) weekday컬럼을 만들고 요일별로 매핑하라 ( 월요일: 0 ~ 일요일 :6)\n",
        "\n"
      ]
    },
    {
      "cell_type": "code",
      "execution_count": null,
      "metadata": {
        "id": "Yh_tXL1xxH4r"
      },
      "outputs": [],
      "source": []
    },
    {
      "cell_type": "markdown",
      "metadata": {
        "id": "jDv_EAsbxH_V"
      },
      "source": [
        "#### 70) weekday컬럼을 기준으로 주말이면 1 평일이면 0의 값을 가지는 WeekCheck 컬럼을 만들어라\n",
        "\n"
      ]
    },
    {
      "cell_type": "code",
      "execution_count": null,
      "metadata": {
        "id": "ac7EMA26xJXM"
      },
      "outputs": [],
      "source": []
    },
    {
      "cell_type": "markdown",
      "metadata": {
        "id": "OEQwgBpKxJdc"
      },
      "source": [
        "#### 71) 년도, 일자 상관없이 모든 컬럼의 각 달의 평균을 구하여라\n",
        "\n"
      ]
    },
    {
      "cell_type": "code",
      "execution_count": null,
      "metadata": {
        "id": "mDmMLFGmxK7S"
      },
      "outputs": [],
      "source": []
    },
    {
      "cell_type": "markdown",
      "metadata": {
        "id": "OgCTcwozxLDM"
      },
      "source": [
        "#### 72) 모든 결측치는 컬럼기준 직전의 값으로 대체하고 첫번째 행에 결측치가 있을경우 뒤에있는 값으로 대채하라\n",
        "\n"
      ]
    },
    {
      "cell_type": "code",
      "execution_count": null,
      "metadata": {
        "id": "RAxJuUVkxMj7"
      },
      "outputs": [],
      "source": []
    },
    {
      "cell_type": "markdown",
      "metadata": {
        "id": "7wOE76MKxMqN"
      },
      "source": [
        "#### 73) 년도 - 월을 기준으로 모든 컬럼의 평균값을 구하여라\n",
        "\n"
      ]
    },
    {
      "cell_type": "code",
      "execution_count": null,
      "metadata": {
        "id": "Ms6QJjDKxOhN"
      },
      "outputs": [],
      "source": []
    },
    {
      "cell_type": "markdown",
      "metadata": {
        "id": "95F4oTBvxOn8"
      },
      "source": [
        "#### 74) RPT 컬럼의 값을 일자별 기준으로 1차차분하라\n",
        "\n"
      ]
    },
    {
      "cell_type": "code",
      "execution_count": null,
      "metadata": {
        "id": "omHY6AIJxPVv"
      },
      "outputs": [],
      "source": []
    },
    {
      "cell_type": "markdown",
      "metadata": {
        "id": "imkj8TgVxPb-"
      },
      "source": [
        "#### 75) RPT와 VAL의 컬럼을 일주일 간격으로 각각 이동평균한값을 구하여라\n",
        "\n"
      ]
    },
    {
      "cell_type": "code",
      "execution_count": null,
      "metadata": {
        "id": "WNyLFCy4xSAb"
      },
      "outputs": [],
      "source": []
    },
    {
      "cell_type": "markdown",
      "metadata": {
        "id": "Mc0MuSWZxSKb"
      },
      "source": [
        "* Attention\n",
        "\n",
        "> * 서울시 미세먼지 데이터 : https://www.airkorea.or.kr/web/realSearch?pMENU_NO=97 \n",
        "> * DataUrl = ‘https://raw.githubusercontent.com/Datamanim/pandas/main/seoul_pm.csv’\n",
        "\n",
        "#### 76) 년-월-일:시 컬럼을 pandas에서 인식할 수 있는 datetime 형태로 변경하라. 서울시의 제공데이터의 경우 0시가 24시로 표현된다\n",
        "\n"
      ]
    },
    {
      "cell_type": "code",
      "execution_count": null,
      "metadata": {
        "id": "jlyez5LixXhy"
      },
      "outputs": [],
      "source": []
    },
    {
      "cell_type": "markdown",
      "metadata": {
        "id": "CpPDOyOgxXpE"
      },
      "source": [
        "#### 77) 일자별 영어요일 이름을 dayName 컬럼에 저장하라\n",
        "\n"
      ]
    },
    {
      "cell_type": "code",
      "execution_count": null,
      "metadata": {
        "id": "-l18ZP2oxY_6"
      },
      "outputs": [],
      "source": []
    },
    {
      "cell_type": "markdown",
      "metadata": {
        "id": "tcbfPvqrxZGc"
      },
      "source": [
        "#### 78) 일자별 각 PM10등급의 빈도수를 파악하라\n",
        "\n"
      ]
    },
    {
      "cell_type": "code",
      "execution_count": null,
      "metadata": {
        "id": "ROg1QOk9xaXy"
      },
      "outputs": [],
      "source": []
    },
    {
      "cell_type": "markdown",
      "metadata": {
        "id": "4apHbcy_xaeM"
      },
      "source": [
        "#### 79) 시간이 연속적으로 존재하며 결측치가 없는지 확인하라\n",
        "\n"
      ]
    },
    {
      "cell_type": "code",
      "execution_count": null,
      "metadata": {
        "id": "ZiS7xuiBxceC"
      },
      "outputs": [],
      "source": []
    },
    {
      "cell_type": "markdown",
      "metadata": {
        "id": "oVBCbvrSxcly"
      },
      "source": [
        "#### 80) 오전 10시와 오후 10시(22시)의 PM10의 평균값을 각각 구하여라\n",
        "\n"
      ]
    },
    {
      "cell_type": "code",
      "execution_count": null,
      "metadata": {
        "id": "CpPGt8L0xdkr"
      },
      "outputs": [],
      "source": []
    },
    {
      "cell_type": "markdown",
      "metadata": {
        "id": "np0htoJWxdsz"
      },
      "source": [
        "#### 81) 날짜 컬럼을 index로 만들어라\n",
        "\n"
      ]
    },
    {
      "cell_type": "code",
      "execution_count": null,
      "metadata": {
        "id": "CypnHu3sxexK"
      },
      "outputs": [],
      "source": []
    },
    {
      "cell_type": "markdown",
      "metadata": {
        "id": "KKFrKcw9xe3d"
      },
      "source": [
        "#### 82) 데이터를 주단위로 뽑아서 최소,최대 평균, 표준표차를 구하여라\n",
        "\n"
      ]
    },
    {
      "cell_type": "code",
      "execution_count": null,
      "metadata": {
        "id": "WtcYBc5oxg2f"
      },
      "outputs": [],
      "source": []
    },
    {
      "cell_type": "markdown",
      "metadata": {
        "id": "mNiKr6hcxg_d"
      },
      "source": [
        "### 06_Pivot\n",
        "\n",
        "* Attention\n",
        "\n",
        "> * 국가별 5세이하 사망비율 통계 : https://www.kaggle.com/utkarshxy/who-worldhealth-statistics-2020-complete \n",
        "> * Dataurl = ‘https://raw.githubusercontent.com/Datamanim/pandas/main/under5MortalityRate.csv’\n",
        "\n",
        "\n",
        "#### 83) Indicator을 삭제하고 First Tooltip 컬럼에서 신뢰구간에 해당하는 표현을 지워라\n",
        "\n"
      ]
    },
    {
      "cell_type": "code",
      "execution_count": null,
      "metadata": {
        "id": "DSQwv7LuxoCb"
      },
      "outputs": [],
      "source": []
    },
    {
      "cell_type": "markdown",
      "metadata": {
        "id": "vhMtvoiSxoLV"
      },
      "source": [
        "#### 84) 년도가 2015년 이상, Dim1이 Both sexes인 케이스만 추출하라\n",
        "\n"
      ]
    },
    {
      "cell_type": "code",
      "execution_count": null,
      "metadata": {
        "id": "6mwAVSflxppL"
      },
      "outputs": [],
      "source": []
    },
    {
      "cell_type": "markdown",
      "metadata": {
        "id": "owZFzEEexpv7"
      },
      "source": [
        "#### 85) 84번 문제에서 추출한 데이터로 아래와 같이 나라에 따른 년도별 사망률을 데이터 프레임화 하라\n",
        "\n",
        "\n"
      ]
    },
    {
      "cell_type": "code",
      "execution_count": null,
      "metadata": {
        "id": "72v3Jg29xrMT"
      },
      "outputs": [],
      "source": []
    },
    {
      "cell_type": "markdown",
      "metadata": {
        "id": "pagplJdHxrdD"
      },
      "source": [
        "#### 86) Dim1에 따른 년도별 사망비율의 평균을 구하라\n",
        "\n"
      ]
    },
    {
      "cell_type": "code",
      "execution_count": null,
      "metadata": {
        "id": "oQWf6xEbxtNr"
      },
      "outputs": [],
      "source": []
    },
    {
      "cell_type": "markdown",
      "metadata": {
        "id": "2fOoMNBLxtUb"
      },
      "source": [
        "* Attention\n",
        "\n",
        "> * 올림픽 메달리스트 정보 데이터: https://www.kaggle.com/the-guardian/olympic-games \n",
        "> * dataUrl =’https://raw.githubusercontent.com/Datamanim/pandas/main/winter.csv’\n",
        "\n",
        "#### 87) 데이터에서 한국 KOR 데이터만 추출하라\n",
        "\n",
        "\n"
      ]
    },
    {
      "cell_type": "code",
      "execution_count": null,
      "metadata": {
        "id": "2G3YWCifxy1M"
      },
      "outputs": [],
      "source": []
    },
    {
      "cell_type": "markdown",
      "metadata": {
        "id": "fHSDhRmnxy8B"
      },
      "source": [
        "#### 88) 한국 올림픽 메달리스트 데이터에서 년도에 따른 medal 갯수를 데이터프레임화 하라\n",
        "\n"
      ]
    },
    {
      "cell_type": "code",
      "execution_count": null,
      "metadata": {
        "id": "gPRmZ-RIx0aI"
      },
      "outputs": [],
      "source": []
    },
    {
      "cell_type": "markdown",
      "metadata": {
        "id": "jn91V4Z4x0hL"
      },
      "source": [
        "#### 89) 전체 데이터에서 sport종류에 따른 성별수를 구하여라\n",
        "\n"
      ]
    },
    {
      "cell_type": "code",
      "execution_count": null,
      "metadata": {
        "id": "qMH09Y3Jx2Nb"
      },
      "outputs": [],
      "source": []
    },
    {
      "cell_type": "markdown",
      "metadata": {
        "id": "ndRNpoUzx2T-"
      },
      "source": [
        "#### 90) 전체 데이터에서 Discipline종류에 따른 따른 Medal수를 구하여라\n",
        "\n"
      ]
    },
    {
      "cell_type": "code",
      "execution_count": null,
      "metadata": {
        "id": "pYnd5hcBx3jj"
      },
      "outputs": [],
      "source": []
    },
    {
      "cell_type": "markdown",
      "metadata": {
        "id": "LgQxa4tyx3qG"
      },
      "source": [
        "### 07_Merge , Concat\n",
        "\n",
        "* Attention\n",
        "\n",
        "> * 국가별 5세이하 사망비율 통계 : https://www.kaggle.com/utkarshxy/who-worldhealth-statistics-2020-complete\n",
        "> * 데이터 변형\n",
        "> * Dataurl = ‘https://raw.githubusercontent.com/Datamanim/pandas/main/mergeTEst.csv’\n",
        "\n",
        "\n",
        "#### 91) df1과 df2 데이터를 하나의 데이터 프레임으로 합쳐라\n",
        "\n"
      ]
    },
    {
      "cell_type": "code",
      "execution_count": null,
      "metadata": {
        "id": "1utyfv4hyCnD"
      },
      "outputs": [],
      "source": []
    },
    {
      "cell_type": "markdown",
      "metadata": {
        "id": "LkQaLg4WyCvK"
      },
      "source": [
        "#### 92) df3과 df4 데이터를 하나의 데이터 프레임으로 합쳐라. 둘다 포함하고 있는 년도에 대해서만 고려한다\n",
        "\n"
      ]
    },
    {
      "cell_type": "code",
      "execution_count": null,
      "metadata": {
        "id": "rdYaXYXiyE3b"
      },
      "outputs": [],
      "source": []
    },
    {
      "cell_type": "markdown",
      "metadata": {
        "id": "u1jl6HA_yE9-"
      },
      "source": [
        "#### 93) df3과 df4 데이터를 하나의 데이터 프레임으로 합쳐라. 모든 컬럼을 포함하고, 결측치는 0으로 대체한다\n",
        "\n"
      ]
    },
    {
      "cell_type": "code",
      "execution_count": null,
      "metadata": {
        "id": "ZcVV7aoFyGNb"
      },
      "outputs": [],
      "source": []
    },
    {
      "cell_type": "markdown",
      "metadata": {
        "id": "bwjW1EfHyGUA"
      },
      "source": [
        "#### 94) df5과 df6 데이터를 하나의 데이터 프레임으로 merge함수를 이용하여 합쳐라. Algeria컬럼을 key로 하고 두 데이터 모두 포함하는 데이터만 출력하라\n",
        "\n"
      ]
    },
    {
      "cell_type": "code",
      "execution_count": null,
      "metadata": {
        "id": "LawRyqxEyH8C"
      },
      "outputs": [],
      "source": []
    },
    {
      "cell_type": "markdown",
      "metadata": {
        "id": "kz3kjWMmyIEU"
      },
      "source": [
        "#### 95) df5과 df6 데이터를 하나의 데이터 프레임으로 merge함수를 이용하여 합쳐라. Algeria컬럼을 key로 하고 합집합으로 합쳐라\n",
        "\n"
      ]
    },
    {
      "cell_type": "code",
      "execution_count": null,
      "metadata": {
        "id": "hriZT6AhyJXC"
      },
      "outputs": [],
      "source": []
    }
  ],
  "metadata": {
    "colab": {
      "collapsed_sections": [
        "l8VFURvltkeR",
        "Azs1CVh8t5RJ",
        "Ep1QxSddt-kR",
        "PIRB_NfzuC4B",
        "p4-Hdxn0uE6i",
        "auNNv2zauG4I",
        "-LwFGl1LuKBw",
        "mCA8ItNJuNFL",
        "sAlx7UkBuP4I",
        "3zCrTfQBuR9x",
        "r6kjob-ouV5R",
        "SCMtGrgouZCJ",
        "xVgu2JisuyVS",
        "wCNFnVvyu08h",
        "G4_OVPn1u20m",
        "yn1Phf6bu4YZ",
        "w_mW50q9u5zi",
        "Vusq65i4vKzE",
        "SMxgByFFvMNq",
        "lHm1TF1kvNv5",
        "7pwXosdjvPaJ",
        "kLn8GHZ8vQ9B",
        "ElZ5CEfvvSlH",
        "58jCiFofvXAR",
        "npEa6BSwvYnh",
        "1VP7i_lEvaOt",
        "9obxeKCVvbm6",
        "vD5BSHMQvd3Z",
        "2A7pmG4Ivk8J",
        "WEzsIgoHvncp",
        "m3zuM9BxvpIB",
        "WsHjdi01vqxK",
        "-lhtKusbvs5Z",
        "Etw7gQDDvt5K",
        "Cgmb1_G7vvPJ",
        "qOICXHgJvwmB",
        "NZGbSexkwA2z",
        "2bKtiOfuwCTq",
        "VKdCB4NMwEDy",
        "3swVJ4JNwFiC",
        "61RxggCXwHJK",
        "eMsYgx05wIXd",
        "9yxELv-AwKjz",
        "kBTatg4AwMNN",
        "EEBCS-ivwNeb",
        "VuMA7T8SwQC4",
        "KYbQ5zeMwaPb",
        "8O3fjWMPwbuT",
        "wzNeMdDBwl-a",
        "_IC50ucRwpTh",
        "VzEchC99wrN3",
        "E46O5dW8wtFK",
        "dIrPR5Bnwura",
        "iPjpjP6nwwV0",
        "K2D3XiYKwx_J",
        "LqnPgKFTwzoi",
        "QHLYoa8xw6Vy",
        "NRB6oPd0w8eC",
        "21uhSi3Sw9qi",
        "Omh7Q4EIw_fT",
        "Ec8dIgZHxBUD",
        "jDv_EAsbxH_V",
        "OEQwgBpKxJdc",
        "OgCTcwozxLDM",
        "7wOE76MKxMqN",
        "95F4oTBvxOn8",
        "imkj8TgVxPb-",
        "Mc0MuSWZxSKb",
        "CpPDOyOgxXpE",
        "tcbfPvqrxZGc",
        "4apHbcy_xaeM",
        "oVBCbvrSxcly",
        "np0htoJWxdsz",
        "KKFrKcw9xe3d",
        "mNiKr6hcxg_d",
        "vhMtvoiSxoLV",
        "owZFzEEexpv7",
        "pagplJdHxrdD",
        "2fOoMNBLxtUb",
        "fHSDhRmnxy8B",
        "jn91V4Z4x0hL",
        "ndRNpoUzx2T-",
        "LgQxa4tyx3qG",
        "LkQaLg4WyCvK",
        "u1jl6HA_yE9-",
        "bwjW1EfHyGUA",
        "kz3kjWMmyIEU"
      ],
      "provenance": []
    },
    "kernelspec": {
      "display_name": "Python 3",
      "name": "python3"
    },
    "language_info": {
      "name": "python"
    }
  },
  "nbformat": 4,
  "nbformat_minor": 0
}
