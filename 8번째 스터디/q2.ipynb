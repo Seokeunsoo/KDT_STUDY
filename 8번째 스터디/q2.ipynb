{
  "nbformat": 4,
  "nbformat_minor": 0,
  "metadata": {
    "colab": {
      "provenance": []
    },
    "kernelspec": {
      "name": "python3",
      "display_name": "Python 3"
    },
    "language_info": {
      "name": "python"
    }
  },
  "cells": [
    {
      "cell_type": "markdown",
      "source": [
        "# Datamanim \n",
        "## 모의고사 2회차\n",
        "### 작업 1유형\n",
        "* Attention\n",
        "> * 데이터 출처 : https://www.kaggle.com/datasets/fedesoriano/stroke-prediction-dataset (후처리 작업)\n",
        "> * 데이터 설명 : 뇌졸증 발생여부 예측\n",
        "> * dataurl : https://raw.githubusercontent.com/Datamanim/datarepo/main/stroke/train.csv\n",
        "\n",
        "#### 1) 성별이 Male인 환자들의 age의 평균값은 ?\n",
        "\n"
      ],
      "metadata": {
        "id": "cozjryraDncK"
      }
    },
    {
      "cell_type": "code",
      "source": [],
      "metadata": {
        "id": "gOCga9kYDvih"
      },
      "execution_count": null,
      "outputs": []
    },
    {
      "cell_type": "markdown",
      "source": [
        "#### 2) bmi컬럼의 결측치를 bmi컬럼의 결측치를 제외한 나머지 값들의 중앙값으로 채웠을 경우 bmi 컬럼의 평균을 소숫점 이하 3자리 까지 구하여라\n",
        "\n"
      ],
      "metadata": {
        "id": "OarRITNRDvrJ"
      }
    },
    {
      "cell_type": "code",
      "source": [],
      "metadata": {
        "id": "KvIrSe3wDyQJ"
      },
      "execution_count": null,
      "outputs": []
    },
    {
      "cell_type": "markdown",
      "source": [
        "#### 3) bmi컬럼의 각 결측치들을 직전의 행의 bmi값으로 채웠을 경우 bmi 컬럼의 평균을 소숫점 이하 3자리 까지 구하여라\n",
        "\n"
      ],
      "metadata": {
        "id": "O92IwmOFDyXh"
      }
    },
    {
      "cell_type": "code",
      "source": [],
      "metadata": {
        "id": "32TxeJFJDzux"
      },
      "execution_count": null,
      "outputs": []
    },
    {
      "cell_type": "markdown",
      "source": [
        "#### 4) bmi컬럼의 각 결측치들을 결측치를 가진 환자 나이대(10단위)의 평균 bmi 값으로 대체한 후 대체된 bmi 컬럼의 평균을 소숫점 이하 3자리 까지 구하여라\n",
        "\n"
      ],
      "metadata": {
        "id": "RqF9wq-aDz2h"
      }
    },
    {
      "cell_type": "code",
      "source": [],
      "metadata": {
        "id": "h46bT3zaD1Fi"
      },
      "execution_count": null,
      "outputs": []
    },
    {
      "cell_type": "markdown",
      "source": [
        "#### 5) avg_glucose_level 컬럼의 값이 200이상인 데이터를 모두 199로 변경하고 stroke값이 1인 데이터의 avg_glucose_level값의 평균을 소수점이하 3자리 까지 구하여라\n",
        "\n"
      ],
      "metadata": {
        "id": "HX2jPr4kD1KB"
      }
    },
    {
      "cell_type": "code",
      "source": [],
      "metadata": {
        "id": "ksDXHuBTD3La"
      },
      "execution_count": null,
      "outputs": []
    },
    {
      "cell_type": "markdown",
      "source": [
        "### 작업 1유형_다른 데이터\n",
        "* Attention\n",
        "> * 데이터 출처 : https://www.kaggle.com/abcsds/pokemon (참고, 데이터 수정)\n",
        "> * 데이터 설명 : 포켓몬 정보\n",
        "> * data url = https://raw.githubusercontent.com/Datamanim/datarepo/main/pok/Pokemon.csv\n",
        "\n",
        "#### 6) Attack컬럼의 값을 기준으로 내림차순정렬 했을때 상위 400위까지 포켓몬들과 401~800위까지의 포켓몬들에서 전설포켓몬(Legendary컬럼)의 숫자 차이는?\n",
        "\n"
      ],
      "metadata": {
        "id": "1rn7pTMsD3TB"
      }
    },
    {
      "cell_type": "code",
      "source": [],
      "metadata": {
        "id": "OQBxMtr4D-ox"
      },
      "execution_count": null,
      "outputs": []
    },
    {
      "cell_type": "markdown",
      "source": [
        "#### 7) Type 1 컬럼의 종류에 따른 Total 컬럼의 평균값을 내림차순 정렬했을때 상위 3번째 Type 1은 무엇인가?\n",
        "\n"
      ],
      "metadata": {
        "id": "nPHvJgVID-vp"
      }
    },
    {
      "cell_type": "code",
      "source": [],
      "metadata": {
        "id": "smB2RTnwEAi5"
      },
      "execution_count": null,
      "outputs": []
    },
    {
      "cell_type": "markdown",
      "source": [
        "#### 8) 결측치가 존재하는 행을 모두 지운 후 처음부터 순서대로 60% 데이터를 추출하여 Defense컬럼의 1분위수를 구하여라\n"
      ],
      "metadata": {
        "id": "bWlR9WlnEApp"
      }
    },
    {
      "cell_type": "code",
      "source": [],
      "metadata": {
        "id": "G-BZBcBVECdZ"
      },
      "execution_count": null,
      "outputs": []
    },
    {
      "cell_type": "markdown",
      "source": [
        "#### 9) Type 1 컬럼의 속성이 Fire인 포켓몬들의 Attack의 평균이상인 Water속성의 포켓몬 수를 구하여라\n",
        "\n"
      ],
      "metadata": {
        "id": "Jt5SiHM0ECjZ"
      }
    },
    {
      "cell_type": "code",
      "source": [],
      "metadata": {
        "id": "PAriobDXED0B"
      },
      "execution_count": null,
      "outputs": []
    },
    {
      "cell_type": "markdown",
      "source": [
        "#### 10) 각 세대 중(Generation 컬럼)의 Speed와 Defense 컬럼의 차이(절댓값)이 가장 큰 세대는?\n",
        "\n"
      ],
      "metadata": {
        "id": "nvHb6CAhED6h"
      }
    },
    {
      "cell_type": "code",
      "source": [],
      "metadata": {
        "id": "Lec6rAn-EFc5"
      },
      "execution_count": null,
      "outputs": []
    },
    {
      "cell_type": "markdown",
      "source": [
        "### 작업2유형\n",
        "* Attention\n",
        "> * 데이터 출처 : https://www.kaggle.com/datasets/fedesoriano/stroke-prediction-dataset (후처리 작업)\n",
        "> * 데이터 설명 : 뇌졸증 발생여부 예측\n",
        "> * train : https://raw.githubusercontent.com/Datamanim/datarepo/main/stroke_/train.csv\n",
        "> * test : https://raw.githubusercontent.com/Datamanim/datarepo/main/stroke_/test.csv"
      ],
      "metadata": {
        "id": "fQ3YQHN7EFlx"
      }
    },
    {
      "cell_type": "code",
      "source": [],
      "metadata": {
        "id": "PHVJt_q-EMvJ"
      },
      "execution_count": null,
      "outputs": []
    }
  ]
}