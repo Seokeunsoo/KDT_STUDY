{
  "nbformat": 4,
  "nbformat_minor": 0,
  "metadata": {
    "colab": {
      "provenance": []
    },
    "kernelspec": {
      "name": "python3",
      "display_name": "Python 3"
    },
    "language_info": {
      "name": "python"
    }
  },
  "cells": [
    {
      "cell_type": "markdown",
      "source": [
        "# Datamanim \n",
        "## 모의고사 3회차\n",
        "### 작업 1유형\n",
        "* Attention\n",
        "> * 데이터 출처 : link (후처리 작업)\n",
        "> * 데이터 설명 : 2010-2019 스포티파이 TOP100 노래\n",
        "> * dataurl : https://raw.githubusercontent.com/Datamanim/datarepo/main/spotify/spotify.csv\n",
        "\n",
        "#### 1) 데이터는 현재 년도별 100곡이 인기순으로 정렬되어 있다. 각 년도별 1~100위의 랭킹을 나타내는 rank컬럼을 만들고 매년도 1위의 bpm컬럼의 평균값을 구하여라\n",
        "\n"
      ],
      "metadata": {
        "id": "UpXNASGsEXVR"
      }
    },
    {
      "cell_type": "code",
      "source": [],
      "metadata": {
        "id": "ERZl2PGEElRx"
      },
      "execution_count": null,
      "outputs": []
    },
    {
      "cell_type": "markdown",
      "source": [
        "#### 2) 2015년도에 가장많은 top100곡을 올린 artist는 누구인가?\n",
        "\n"
      ],
      "metadata": {
        "id": "K38lj-ZbElYh"
      }
    },
    {
      "cell_type": "code",
      "source": [],
      "metadata": {
        "id": "N8rTP2eoEno5"
      },
      "execution_count": null,
      "outputs": []
    },
    {
      "cell_type": "markdown",
      "source": [
        "#### 3) 년도별 rank값이 1~10위 까지의 곡들 중 두번째로 많은 top genre는 무엇인가?\n",
        "\n"
      ],
      "metadata": {
        "id": "d8uRvmYlEnuZ"
      }
    },
    {
      "cell_type": "code",
      "source": [],
      "metadata": {
        "id": "2cM7SJ_qEoZo"
      },
      "execution_count": null,
      "outputs": []
    },
    {
      "cell_type": "markdown",
      "source": [
        "#### 4) 피처링의 경우 title에 표시된다. 피처링을 가장 많이 해준 가수는 누구인가?\n",
        "\n"
      ],
      "metadata": {
        "id": "pO2bajj9EoeK"
      }
    },
    {
      "cell_type": "code",
      "source": [],
      "metadata": {
        "id": "Nf8LETMbEqIQ"
      },
      "execution_count": null,
      "outputs": []
    },
    {
      "cell_type": "markdown",
      "source": [
        "#### 5) top year 년도를 기준으로 발매일(year released)과 top100에 진입한 일자 (top year)가 다른 곡의 숫자를 count 했을때 가장 많은 년도는?\n",
        "\n"
      ],
      "metadata": {
        "id": "5m2rpvPHEqOg"
      }
    },
    {
      "cell_type": "code",
      "source": [],
      "metadata": {
        "id": "-mDVyOypErXI"
      },
      "execution_count": null,
      "outputs": []
    },
    {
      "cell_type": "markdown",
      "source": [
        "#### 6) artist 컬럼의 값에 대소문자 상관없이 q 단어가 들어가는 아티스트는 몇명인가?\n",
        "\n"
      ],
      "metadata": {
        "id": "kD8ahhPdErb6"
      }
    },
    {
      "cell_type": "code",
      "source": [],
      "metadata": {
        "id": "I_iW7WH2EsgJ"
      },
      "execution_count": null,
      "outputs": []
    },
    {
      "cell_type": "markdown",
      "source": [
        "#### 7) 년도 상관없이 전체데이터에서 1~50위와 51~100위간의 dur 컬럼의 평균값의 차이는?\n",
        "\n"
      ],
      "metadata": {
        "id": "elwsbw7MEsnA"
      }
    },
    {
      "cell_type": "code",
      "source": [],
      "metadata": {
        "id": "eaCmDowyEttZ"
      },
      "execution_count": null,
      "outputs": []
    },
    {
      "cell_type": "markdown",
      "source": [
        "#### 8) title을 띄어쓰기 단어로 구분 했을때 가장 많이 나온 단어는 무엇인가? (대소문자 구분 x)\n",
        "\n"
      ],
      "metadata": {
        "id": "ORXKwT7wEtyy"
      }
    },
    {
      "cell_type": "code",
      "source": [],
      "metadata": {
        "id": "Fk7YtQ-GEwBp"
      },
      "execution_count": null,
      "outputs": []
    },
    {
      "cell_type": "markdown",
      "source": [
        "#### 9) 년도별 nrgy값의 평균값을 구할때 최대 평균값과 최소 평균값의 차이를 구하여라\n",
        "\n"
      ],
      "metadata": {
        "id": "xIAAFBv2EwHZ"
      }
    },
    {
      "cell_type": "code",
      "source": [],
      "metadata": {
        "id": "zQ3v1_F8ExLB"
      },
      "execution_count": null,
      "outputs": []
    },
    {
      "cell_type": "markdown",
      "source": [
        "#### 10) artist중 artist type 타입을 여러개 가지고 있는 artist는 누구인가\n",
        "\n"
      ],
      "metadata": {
        "id": "U9geRXLrExQp"
      }
    },
    {
      "cell_type": "code",
      "source": [],
      "metadata": {
        "id": "e5-vtmwMEzsp"
      },
      "execution_count": null,
      "outputs": []
    },
    {
      "cell_type": "markdown",
      "source": [
        "### 작업 2유형\n",
        "* Attention\n",
        "> * 데이터 설명 : 센서데이터로 동작 유형 분류 (종속변수 pose : 0 ,1 구분)\n",
        "> * x_train: https://raw.githubusercontent.com/Datamanim/datarepo/main/muscle/x_train.csv\n",
        "> * y_train: https://raw.githubusercontent.com/Datamanim/datarepo/main/muscle/y_train.csv\n",
        "> * x_test: https://raw.githubusercontent.com/Datamanim/datarepo/main/muscle/x_test.csv\n",
        "출처(참고, 데이터 수정)"
      ],
      "metadata": {
        "id": "xpnkLbL4Ezyh"
      }
    }
  ]
}